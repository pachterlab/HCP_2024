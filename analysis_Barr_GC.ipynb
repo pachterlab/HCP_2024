{
  "nbformat": 4,
  "nbformat_minor": 0,
  "metadata": {
    "colab": {
      "provenance": [],
      "authorship_tag": "ABX9TyO1jVkJR9Jr57TpwMUH3I9h",
      "include_colab_link": true
    },
    "kernelspec": {
      "name": "python3",
      "display_name": "Python 3"
    },
    "language_info": {
      "name": "python"
    }
  },
  "cells": [
    {
      "cell_type": "markdown",
      "metadata": {
        "id": "view-in-github",
        "colab_type": "text"
      },
      "source": [
        "<a href=\"https://colab.research.google.com/github/pachterlab/HCP_2024/blob/main/analysis_Barr_GC.ipynb\" target=\"_parent\"><img src=\"https://colab.research.google.com/assets/colab-badge.svg\" alt=\"Open In Colab\"/></a>"
      ]
    },
    {
      "cell_type": "code",
      "execution_count": null,
      "metadata": {
        "id": "u4tmS70Z1Aul"
      },
      "outputs": [],
      "source": [
        "!wget https://ftp.ncbi.nlm.nih.gov/geo/series/GSE201nnn/GSE201516/suppl/GSE201516%5FDataS1.csv.gz"
      ]
    },
    {
      "cell_type": "code",
      "source": [
        "!mkdir -p results\n",
        "!mkdir -p figs"
      ],
      "metadata": {
        "id": "YvXaLhL11PpF"
      },
      "execution_count": 1,
      "outputs": []
    },
    {
      "cell_type": "code",
      "source": [
        "import numpy as np\n",
        "import pandas as pd\n",
        "\n",
        "# plotting\n",
        "import matplotlib\n",
        "import matplotlib.pyplot as plt"
      ],
      "metadata": {
        "id": "djRID9m51SXc"
      },
      "execution_count": null,
      "outputs": []
    },
    {
      "cell_type": "code",
      "source": [
        "df = pd.read_csv('GSE201516_DataS1.csv.gz')"
      ],
      "metadata": {
        "id": "i_6EQGOM1Tqc"
      },
      "execution_count": null,
      "outputs": []
    },
    {
      "cell_type": "code",
      "source": [
        "label_fs = 17\n",
        "line_color = 'black'\n",
        "\n",
        "def sub_make_plots(P,H,ax,\n",
        "               axis_fs = 12,title_fs = 15,\n",
        "               s = 2, alpha = 0.1,color='gray'):\n",
        "\n",
        "  delta = P - H\n",
        "  scaled_theta = (2/np.pi) * np.arctan( H / delta )\n",
        "  R = np.sqrt( delta**2 + H**2)\n",
        "  # get cis prop\n",
        "  cis_prop_reordered = scaled_theta-0.5\n",
        "  cis_prop_reordered[cis_prop_reordered<=-1.0] = (cis_prop_reordered[cis_prop_reordered<=-1.0]) + 2.0\n",
        "\n",
        "  ax.scatter(cis_prop_reordered, P ,s = s, alpha = alpha,color=color)\n",
        "  ax.set_ylabel('$X_{12}$',fontsize=18)\n",
        "  ax.axhline(0, color='black', linewidth=2, alpha=0.7, linestyle='--')\n",
        "  ax.tick_params(axis='both', labelsize=label_fs)\n",
        "  ax.tick_params(bottom=False)\n",
        "  ax.grid(which='both', alpha=0.5, linewidth=0.5)\n",
        "  ax.minorticks_on()"
      ],
      "metadata": {
        "id": "ytX_qoiw1WXt"
      },
      "execution_count": null,
      "outputs": []
    },
    {
      "cell_type": "markdown",
      "source": [
        "## Newly calculated vs. reported proportion $cis$\n",
        "Plot newly calculated proportion *cis* versus the reported proportion *cis* from Barr *et al.*"
      ],
      "metadata": {
        "id": "QnDw7wmY1XkZ"
      }
    },
    {
      "cell_type": "code",
      "source": [
        "# calculate proportion cis\n",
        "\n",
        "P = df['dream.logFC'].values.flatten()\n",
        "H = df['hybrid.logFC'].values.flatten()\n",
        "\n",
        "\n",
        "delta = P - H\n",
        "scaled_theta = (2/np.pi) * np.arctan( H / delta )\n",
        "R = np.sqrt( delta**2 + H**2)\n",
        "\n",
        "df['P'] = P\n",
        "df['H'] = H\n",
        "df['R'] = R\n",
        "df['scaled_theta'] = scaled_theta\n",
        "df['cisprop_ours'] = np.abs(scaled_theta)\n"
      ],
      "metadata": {
        "id": "yRL34B3x1ZI6"
      },
      "execution_count": null,
      "outputs": []
    },
    {
      "cell_type": "code",
      "source": [
        "fig,ax = plt.subplots(1,1,figsize=(5.4,5))\n",
        "cis_prop = df['cisprop'].values.flatten()\n",
        "scaled_theta_all = np.abs(df['scaled_theta'].values.flatten())\n",
        "ax.scatter(cis_prop,scaled_theta_all, s = 4, color = 'darkred')\n",
        "ax.set_xlabel('Proportion $cis$ (Barr $et$ $al.)$',fontsize = 18)\n",
        "ax.set_ylabel('Proportion $cis$',fontsize = 18)\n",
        "x_min, x_max = ax.get_xlim()\n",
        "y_min, y_max = ax.get_ylim()\n",
        "# Determine the diagonal points for the line y = x\n",
        "diag_min = min(x_min, y_min)\n",
        "diag_max = max(x_max, y_max)\n",
        "ax.plot([0, diag_max], [0, diag_max], linewidth = 3.0, color='black',alpha=0.7,linestyle='--',\n",
        "      label = 'y = x')\n",
        "# Set x and y axis limits\n",
        "ax.set_xlim(0, 1.02)\n",
        "ax.set_ylim(0, 1.02)\n",
        "\n",
        "ax.tick_params(axis='both',labelsize=label_fs)\n",
        "ax.spines[['right', 'top']].set_visible(False)\n",
        "ax.grid(which='both')\n",
        "plt.legend(fontsize=18)\n",
        "plt.tight_layout()\n",
        "plt.savefig('./figs/fig3A',bbox_inches='tight',dpi=400)"
      ],
      "metadata": {
        "id": "XkzZhpc_1aLz"
      },
      "execution_count": null,
      "outputs": []
    },
    {
      "cell_type": "code",
      "source": [
        "# FC difference\n",
        "\n",
        "fig,ax = plt.subplots(1,1,figsize=(5.4,5))\n",
        "cis_prop = df['cisprop'].values.flatten()\n",
        "scaled_theta_all = np.abs(df['scaled_theta'].values.flatten())\n",
        "ax.scatter(cis_prop,cis_prop/scaled_theta_all,\n",
        "           s = 4, color = 'darkred')\n",
        "ax.set_ylabel('Ratio',fontsize = 18)\n",
        "ax.set_xlabel('Proportion $cis$ (Barr $et$ $al.)$',fontsize = 18)\n",
        "\n",
        "# Set x and y axis limits\n",
        "# ax.set_xlim(0, 1.02)\n",
        "# ax.set_ylim(0, 1.02)\n",
        "\n",
        "ax.tick_params(axis='both',labelsize=label_fs)\n",
        "ax.grid(which='both')\n",
        "# ax.minorticks_on()\n",
        "ax.spines[['right', 'top']].set_visible(False)\n",
        "# plt.legend(fontsize=18)\n",
        "plt.tight_layout()\n",
        "ax.axhline(1.0,linewidth = 3.0, color='black',alpha=0.7,linestyle='--')\n",
        "plt.savefig('./figs/barr_cis_fc',bbox_inches='tight',dpi=400)"
      ],
      "metadata": {
        "id": "CHdqNIiw1bbm"
      },
      "execution_count": null,
      "outputs": []
    },
    {
      "cell_type": "markdown",
      "source": [
        "## Variance and mean of proportion $cis$ across cell types"
      ],
      "metadata": {
        "id": "xydlXGdx1e_T"
      }
    },
    {
      "cell_type": "code",
      "source": [
        "var_cis_prop_df =  pd.DataFrame(df.groupby(['gene'])['cisprop_ours'].apply(lambda g: g.var(skipna=False)))\n",
        "mean_cis_prop_df = pd.DataFrame(df.groupby(['gene'])['cisprop_ours'].apply(lambda g: g.mean(skipna=False)))\n",
        "\n",
        "# gene thresholds: make sure they are not ambiguous in at least 35/72 cell types\n",
        "thresh = 0\n",
        "df_reg = df\n",
        "number_not_null = df_reg.groupby(['gene']).count()['cell.type']\n",
        "genes_not_null = number_not_null[number_not_null>thresh].index\n",
        "\n",
        "var_cis_prop_df = var_cis_prop_df.loc[genes_not_null,:].dropna()\n",
        "mean_cis_prop_df = mean_cis_prop_df.loc[var_cis_prop_df.index,:]"
      ],
      "metadata": {
        "id": "bLA3xSKI1h4p"
      },
      "execution_count": null,
      "outputs": []
    },
    {
      "cell_type": "code",
      "source": [
        "cis_thresh = 0.11\n",
        "high_var_genes = var_cis_prop_df[var_cis_prop_df['cisprop_ours']>cis_thresh].index\n",
        "high_var_genes"
      ],
      "metadata": {
        "id": "yibGE2--1lc2"
      },
      "execution_count": null,
      "outputs": []
    },
    {
      "cell_type": "code",
      "source": [
        "axis_fs = 25\n",
        "title_fs = 25\n",
        "label_fs = 20\n",
        "s = 45\n",
        "alpha = .7\n",
        "line_color = 'black'\n",
        "fig,ax = plt.subplots(1,4,figsize=(20,5))\n",
        "\n",
        "\n",
        "axis_width = 4.0\n",
        "line_alpha = 0.8\n",
        "\n",
        "gene_names = ['Mageh1','Bloc1s1','Dnmt1','Ppil4']\n",
        "\n",
        "for i,gene in enumerate(['MAGEH1','BLOC1S1','DNMT1','PPIL4']):\n",
        "\n",
        "  df_gene = df[df['gene'].isin([gene])]\n",
        "  P = df_gene['P'].values.flatten()\n",
        "  H = df_gene['H'].values.flatten()\n",
        "\n",
        "\n",
        "  sub_make_plots(P,H,ax=ax[i],\n",
        "               axis_fs = axis_fs,title_fs = title_fs,\n",
        "               s = s, alpha = alpha, color = 'black')\n",
        "\n",
        "\n",
        "  ax[i].set_ylabel('$R_P$',fontsize=axis_fs)\n",
        "  ax[i].set_title(f'${gene_names[i]}$',fontsize=title_fs)\n",
        "\n",
        "  ax[i].set_ylim(-2.2,5.27)\n",
        "  ax[i].set_xlim(-1.05,1.05)\n",
        "  ax[i].tick_params(which='both',labelsize=label_fs)\n",
        "\n",
        "  ax[i].axvline(0.5, color='orangered', linewidth=axis_width, alpha=line_alpha,zorder=0)\n",
        "  ax[i].axvline(-0.5, color='darkblue', linewidth=axis_width, alpha=line_alpha,zorder=0)\n",
        "  ax[i].axvline(0.0, color='skyblue', linewidth=axis_width, alpha=line_alpha,zorder=0)\n",
        "  ax[i].axvline(-1, color='forestgreen', linewidth=axis_width, alpha=line_alpha,zorder=0)\n",
        "  ax[i].axvline(1, color='forestgreen', linewidth=axis_width, alpha=line_alpha,zorder=0)\n",
        "  ax[i].axhline(0, color='gray', linewidth=axis_width, alpha = line_alpha,zorder=0)\n",
        "  ax[i].axhline(0, color='black', linewidth=2, alpha=0.7, linestyle='-')\n",
        "\n",
        "  ax[i].tick_params(axis='both', labelsize=label_fs)\n",
        "  ax[i].tick_params(bottom=False)\n",
        "  ax[i].grid(which='both', alpha=0.5, linewidth=0.5)\n",
        "  ax[i].minorticks_on()\n",
        "\n",
        "plt.tight_layout()\n",
        "plt.savefig('./figs/barr_highvar_reg.png',dpi=400,bbox_inches='tight')"
      ],
      "metadata": {
        "id": "fT4IumJD1o0X"
      },
      "execution_count": null,
      "outputs": []
    },
    {
      "cell_type": "code",
      "source": [
        "gene_colors = ['gold','plum','red','magenta']"
      ],
      "metadata": {
        "id": "SIseVWKy1q4g"
      },
      "execution_count": null,
      "outputs": []
    },
    {
      "cell_type": "code",
      "source": [
        "cell_types = df['cell.type'].unique()\n",
        "\n",
        "n = 1\n",
        "\n",
        "fig,ax = plt.subplots(6,3,figsize = (3*3,6*3) )\n",
        "alpha = 0.3\n",
        "s = 2.0\n",
        "axis_fs = 14\n",
        "title_fs = 14\n",
        "label_fs = 14\n",
        "for i,ct in enumerate(cell_types[:18]):\n",
        "\n",
        "  ind1 = i%6\n",
        "  ind2 = int( np.floor(i/6))\n",
        "\n",
        "  df_gene = df[df['cell.type'].isin([ct])]\n",
        "  P = df_gene['P'].values.flatten()\n",
        "  H = df_gene['H'].values.flatten()\n",
        "\n",
        "\n",
        "  sub_make_plots(P,H,ax=ax[ind1,ind2],\n",
        "               axis_fs = axis_fs,title_fs = title_fs,\n",
        "               s = s, alpha = alpha, color = 'black')\n",
        "\n",
        "\n",
        "    # add genes\n",
        "\n",
        "  for g,gene in enumerate(['MAGEH1','BLOC1S1','DNMT1','PPIL4']):\n",
        "      df_gene_ = df_gene[df_gene['gene'].isin([gene])]\n",
        "      P = df_gene_['P'].values.flatten()\n",
        "      H = df_gene_['H'].values.flatten()\n",
        "\n",
        "\n",
        "      sub_make_plots(P,H,ax=ax[ind1,ind2],\n",
        "                   axis_fs = axis_fs,title_fs = title_fs,\n",
        "                   s = 30, alpha = 1.0, color = gene_colors[g],)\n",
        "\n",
        "  ax[ind1,ind2].set_ylabel('$R_P$',fontsize=axis_fs)\n",
        "  ax[ind1,ind2].set_xlabel('Proportion $cis$',fontsize=axis_fs)\n",
        "  if ct == 'Syncytiotrophoblasts and villous cytotrophoblasts':\n",
        "        ct = 'Syncytiotrophoblasts and \\n villous cytotrophoblasts'\n",
        "  ax[ind1,ind2].set_title(f'{ct}',fontsize=title_fs)\n",
        "\n",
        "  ax[ind1,ind2].set_ylim(-9.0,8.0)\n",
        "  ax[ind1,ind2].set_xlim(-1.05,1.05)\n",
        "  ax[ind1,ind2].tick_params(which='both',labelsize=label_fs)\n",
        "\n",
        "  ax[ind1,ind2].axvline(0.5, color='orangered', linewidth=axis_width, alpha=line_alpha,zorder=0)\n",
        "  ax[ind1,ind2].axvline(-0.5, color='darkblue', linewidth=axis_width, alpha=line_alpha,zorder=0)\n",
        "  ax[ind1,ind2].axvline(0.0, color='skyblue', linewidth=axis_width, alpha=line_alpha,zorder=0)\n",
        "  ax[ind1,ind2].axvline(-1, color='forestgreen', linewidth=axis_width, alpha=line_alpha,zorder=0)\n",
        "  ax[ind1,ind2].axvline(1, color='forestgreen', linewidth=axis_width, alpha=line_alpha,zorder=0)\n",
        "  ax[ind1,ind2].axhline(0, color='gray', linewidth=axis_width, alpha = line_alpha,zorder=0)\n",
        "  ax[ind1,ind2].axhline(0, color='black', linewidth=2, alpha=0.7, linestyle='-')\n",
        "\n",
        "  ax[ind1,ind2].tick_params(axis='both', labelsize=label_fs)\n",
        "  ax[ind1,ind2].tick_params(bottom=False)\n",
        "  ax[ind1,ind2].grid(which='both', alpha=0.5, linewidth=0.5)\n",
        "  ax[ind1,ind2].minorticks_on()\n",
        "  ax[ind1,ind2].set_xticks( [-1,-0.5,0.0,0.5,1.0], labels = [0.5,0.0,0.5,1.0,0.5])\n",
        "\n",
        "plt.tight_layout()\n",
        "plt.savefig(f'./figs/barr_celltypes_{n}.png',dpi=400,bbox_inches='tight')\n",
        "\n",
        "\n"
      ],
      "metadata": {
        "id": "tvWdeDJC1uUR"
      },
      "execution_count": null,
      "outputs": []
    }
  ]
}